{
 "cells": [
  {
   "cell_type": "code",
   "execution_count": 5,
   "metadata": {},
   "outputs": [],
   "source": [
    "import pandas as pd\n",
    "import matplotlib.pyplot as plt"
   ]
  },
  {
   "cell_type": "code",
   "execution_count": 6,
   "metadata": {},
   "outputs": [],
   "source": [
    "# Load the data\n",
    "df = pd.read_csv('sample_ecb_operation_data.csv', parse_dates=['date_time'])\n",
    "df.set_index('date_time', inplace=True)"
   ]
  },
  {
   "cell_type": "code",
   "execution_count": null,
   "metadata": {},
   "outputs": [],
   "source": [
    "# 1. Basic data exploration\n",
    "print(df.describe())\n",
    "print(df.dtypes)"
   ]
  },
  {
   "cell_type": "code",
   "execution_count": null,
   "metadata": {},
   "outputs": [],
   "source": [
    "# 2. Analyze cooling operation\n",
    "df['Cooling_active'] = df['compCool1'] > 0\n",
    "cooling_time = df['Cooling_active'].sum() / len(df) * 100\n",
    "print(f\"\\nPercentage of time cooling was active: {cooling_time:.2f}%\")"
   ]
  },
  {
   "cell_type": "code",
   "execution_count": null,
   "metadata": {},
   "outputs": [],
   "source": [
    "# 3. Analyze fan operation\n",
    "df['Fan_speed'] = pd.cut(df['fan'], bins=[0, 100, 200, 300], labels=['Low', 'Medium', 'High'])\n",
    "fan_distribution = df['Fan_speed'].value_counts()\n",
    "fan_distribution.plot(kind='pie', autopct='%1.1f%%', title='Fan Speed Distribution')\n",
    "plt.show()"
   ]
  },
  {
   "cell_type": "code",
   "execution_count": null,
   "metadata": {},
   "outputs": [],
   "source": [
    "# 4. Correlations between variables\n",
    "correlation_matrix = df[['Temperature_ctrl', 'Humidity', 'compCool1', 'fan']].corr()\n",
    "plt.figure(figsize=(10, 8))\n",
    "im = plt.imshow(correlation_matrix, cmap='coolwarm')\n",
    "plt.colorbar(im)\n",
    "plt.xticks(range(len(correlation_matrix.columns)), correlation_matrix.columns, rotation=45)\n",
    "plt.yticks(range(len(correlation_matrix.columns)), correlation_matrix.columns)\n",
    "plt.title('Correlation Heatmap of HVAC Variables')\n",
    "for i in range(len(correlation_matrix.columns)):\n",
    "    for j in range(len(correlation_matrix.columns)):\n",
    "        text = plt.text(j, i, f\"{correlation_matrix.iloc[i, j]:.2f}\",\n",
    "                        ha=\"center\", va=\"center\", color=\"black\")\n",
    "plt.tight_layout()\n",
    "plt.show()"
   ]
  },
  {
   "cell_type": "code",
   "execution_count": null,
   "metadata": {},
   "outputs": [],
   "source": [
    "# 5. Analyze energy consumption patterns\n",
    "df['Hour'] = df.index.hour\n",
    "hourly_energy = df.groupby('Hour')[['compCool1', 'fan']].mean()\n",
    "hourly_energy.plot(kind='bar', figsize=(12, 6))\n",
    "plt.title('Average Hourly Energy Consumption')\n",
    "plt.xlabel('Hour of Day')\n",
    "plt.ylabel('Energy Consumption')\n",
    "plt.legend(['Cooling', 'Fan'])\n",
    "plt.tight_layout()\n",
    "plt.show()"
   ]
  }
 ],
 "metadata": {
  "kernelspec": {
   "display_name": "Python 3",
   "language": "python",
   "name": "python3"
  },
  "language_info": {
   "codemirror_mode": {
    "name": "ipython",
    "version": 3
   },
   "file_extension": ".py",
   "mimetype": "text/x-python",
   "name": "python",
   "nbconvert_exporter": "python",
   "pygments_lexer": "ipython3",
   "version": "3.12.2"
  }
 },
 "nbformat": 4,
 "nbformat_minor": 2
}
