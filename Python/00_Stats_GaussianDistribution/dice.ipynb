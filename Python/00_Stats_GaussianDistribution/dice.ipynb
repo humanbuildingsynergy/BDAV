{
 "cells": [
  {
   "cell_type": "markdown",
   "metadata": {},
   "source": [
    "## the Gaussian Distribution (aka Normal Distribution).\n",
    "This Jupyter Notebook rolls a dice multiple times to see how a normal distribution is formed especially when the sample number increases"
   ]
  },
  {
   "cell_type": "code",
   "execution_count": 2,
   "metadata": {},
   "outputs": [],
   "source": [
    "# Importing libraries\n",
    "from numpy import random\n",
    "import numpy as np\n",
    "import typing\n",
    "from matplotlib import pyplot as plt"
   ]
  },
  {
   "cell_type": "code",
   "execution_count": 3,
   "metadata": {},
   "outputs": [],
   "source": [
    "# Functions\n",
    "def get_num_from_dice():\n",
    "    \"\"\" this function returns a value from a dice (i.e., from one to six)\n",
    "    Args:\n",
    "        - NA\n",
    "    Returns:\n",
    "        - a random value from one to six\n",
    "    \"\"\"\n",
    "    return random.randint(1, 7)\n",
    "\n",
    "def get_prob_from_dice(num_throw: int, val: int):\n",
    "    \"\"\" this function returns the probability of having a certain value (val) when the dice gets thrown num_throw times\n",
    "    Args:\n",
    "        - num_throw: the number of times that the dice gets rolled\n",
    "        - val: the value that will be count\n",
    "    Returns:\n",
    "        - the probability of having the value val\n",
    "    \"\"\"\n",
    "    vals = []\n",
    "    for throw in range(num_throw):\n",
    "        vals.append(get_num_from_dice())\n",
    "    return vals.count(val)/len(vals)"
   ]
  },
  {
   "cell_type": "markdown",
   "metadata": {},
   "source": [
    "## Start rolling the dice"
   ]
  },
  {
   "cell_type": "code",
   "execution_count": 4,
   "metadata": {},
   "outputs": [
    {
     "name": "stdout",
     "output_type": "stream",
     "text": [
      "I got 5 this time\n"
     ]
    }
   ],
   "source": [
    "# This cell is to show the number that you get by rolling the dice.\n",
    "val = get_num_from_dice()\n",
    "print(f\"I got {val} this time\")"
   ]
  },
  {
   "cell_type": "code",
   "execution_count": 5,
   "metadata": {},
   "outputs": [
    {
     "name": "stdout",
     "output_type": "stream",
     "text": [
      "At this time, the probability of having 1 was 0.12\n"
     ]
    }
   ],
   "source": [
    "# This cell is to show the probability of getting a certain value from the dice\n",
    "n_throw = 100   # the number of throws\n",
    "w_val = 1       # the value that we will count\n",
    "prob = get_prob_from_dice(n_throw, w_val) # the probability of having the value w_val\n",
    "print(f\"At this time, the probability of having {w_val} was {prob}\")"
   ]
  },
  {
   "cell_type": "code",
   "execution_count": 6,
   "metadata": {},
   "outputs": [
    {
     "data": {
      "image/png": "[encoded data removed]",
      "text/plain": [
       "<Figure size 640x480 with 1 Axes>"
      ]
     },
     "metadata": {},
     "output_type": "display_data"
    }
   ],
   "source": [
    "# This cell is to visualize the probability distribution of getting a certain value from the dice.\n",
    "\n",
    "probs = []\n",
    "samples = 1000 # the number of samples. Please update this value to see how the distribution changes.\n",
    "\n",
    "for i in range(samples):\n",
    "    probs.append(get_prob_from_dice(n_throw, w_val))\n",
    "\n",
    "bins = np.linspace(0, 0.5, 100)\n",
    "plt.hist(probs, bins=bins)\n",
    "plt.show()"
   ]
  }
 ],
 "metadata": {
  "kernelspec": {
   "display_name": "Python 3",
   "language": "python",
   "name": "python3"
  },
  "language_info": {
   "codemirror_mode": {
    "name": "ipython",
    "version": 3
   },
   "file_extension": ".py",
   "mimetype": "text/x-python",
   "name": "python",
   "nbconvert_exporter": "python",
   "pygments_lexer": "ipython3",
   "version": "3.12.2"
  },
  "orig_nbformat": 4,
  "vscode": {
   "interpreter": {
    "hash": "ede7e6f76d9ee7d89c4abdff919ca965488f0ca504b3b290e5179c8778b1fe8a"
   }
  }
 },
 "nbformat": 4,
 "nbformat_minor": 2
}
