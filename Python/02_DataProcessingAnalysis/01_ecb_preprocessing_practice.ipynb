{
 "cells": [
  {
   "cell_type": "markdown",
   "metadata": {},
   "source": [
    "# ecobee DYD metadata - Data cleaning and processing.\n",
    "The goal is to clean and process the raw ecobee DYD metadata to steamline the analysis.\n",
    "\n",
    "You get to do this data cleaning and processing part almost every time before the actual analysis.\n",
    "\n",
    "Fall 2024 Building Data Analytics and Visualization (BDAV) Course."
   ]
  },
  {
   "cell_type": "markdown",
   "metadata": {},
   "source": [
    "### Import libraries"
   ]
  },
  {
   "cell_type": "code",
   "execution_count": 19,
   "metadata": {},
   "outputs": [],
   "source": [
    "import pandas as pd"
   ]
  },
  {
   "cell_type": "markdown",
   "metadata": {},
   "source": [
    "### loading the ecobee dataset"
   ]
  },
  {
   "cell_type": "code",
   "execution_count": 20,
   "metadata": {},
   "outputs": [
    {
     "name": "stdout",
     "output_type": "stream",
     "text": [
      "Loading ecobee DYD metadata\n"
     ]
    },
    {
     "data": {
      "text/html": [
       "<div>\n",
       "<style scoped>\n",
       "    .dataframe tbody tr th:only-of-type {\n",
       "        vertical-align: middle;\n",
       "    }\n",
       "\n",
       "    .dataframe tbody tr th {\n",
       "        vertical-align: top;\n",
       "    }\n",
       "\n",
       "    .dataframe thead th {\n",
       "        text-align: right;\n",
       "    }\n",
       "</style>\n",
       "<table border=\"1\" class=\"dataframe\">\n",
       "  <thead>\n",
       "    <tr style=\"text-align: right;\">\n",
       "      <th></th>\n",
       "      <th>identifier</th>\n",
       "      <th>account_id</th>\n",
       "      <th>runtime</th>\n",
       "      <th>model</th>\n",
       "      <th>country</th>\n",
       "      <th>province_state</th>\n",
       "      <th>city</th>\n",
       "      <th>building_type</th>\n",
       "      <th>floor_area_sqft</th>\n",
       "      <th>number_floors</th>\n",
       "      <th>building_age_yrs</th>\n",
       "      <th>number_occupants</th>\n",
       "      <th>number_cool_stages</th>\n",
       "      <th>number_heat_stages</th>\n",
       "      <th>allow_comp_with_aux</th>\n",
       "      <th>has_electric</th>\n",
       "      <th>has_heatpump</th>\n",
       "      <th>number_remote_sensors</th>\n",
       "      <th>first_connected</th>\n",
       "    </tr>\n",
       "  </thead>\n",
       "  <tbody>\n",
       "    <tr>\n",
       "      <th>0</th>\n",
       "      <td>63299b4395a21685163f44719570c156df7ae96d</td>\n",
       "      <td>c78cccf5eef35744d80d457847825f622daa9c62</td>\n",
       "      <td>2024-04-03 16:05:13.525793+00:00</td>\n",
       "      <td>ecobee4</td>\n",
       "      <td>CA</td>\n",
       "      <td>AB</td>\n",
       "      <td>Calgary</td>\n",
       "      <td>NaN</td>\n",
       "      <td>NaN</td>\n",
       "      <td>NaN</td>\n",
       "      <td>NaN</td>\n",
       "      <td>NaN</td>\n",
       "      <td>1</td>\n",
       "      <td>2</td>\n",
       "      <td>True</td>\n",
       "      <td>False</td>\n",
       "      <td>False</td>\n",
       "      <td>2</td>\n",
       "      <td>2018-02-13 00:21:58</td>\n",
       "    </tr>\n",
       "    <tr>\n",
       "      <th>1</th>\n",
       "      <td>a86bd752180f9e9d1d4e67ff7f5cd977aad6fdc8</td>\n",
       "      <td>1f33965cae9d654559b91455ae1cd6f359b845be</td>\n",
       "      <td>2024-04-03 16:05:13.525793+00:00</td>\n",
       "      <td>ecobee3Lite</td>\n",
       "      <td>NaN</td>\n",
       "      <td>NaN</td>\n",
       "      <td>NaN</td>\n",
       "      <td>NaN</td>\n",
       "      <td>0.0</td>\n",
       "      <td>0.0</td>\n",
       "      <td>0.0</td>\n",
       "      <td>0.0</td>\n",
       "      <td>1</td>\n",
       "      <td>1</td>\n",
       "      <td>True</td>\n",
       "      <td>False</td>\n",
       "      <td>False</td>\n",
       "      <td>0</td>\n",
       "      <td>2022-12-21 19:01:51</td>\n",
       "    </tr>\n",
       "    <tr>\n",
       "      <th>2</th>\n",
       "      <td>2274ba2595335e43c37c1cbb0ef4ab18e96e0a89</td>\n",
       "      <td>2297ca9740867edc63b7e1f0da592b8b537418b7</td>\n",
       "      <td>2024-04-03 16:05:13.525793+00:00</td>\n",
       "      <td>ecobee3</td>\n",
       "      <td>US</td>\n",
       "      <td>PA</td>\n",
       "      <td>NaN</td>\n",
       "      <td>NaN</td>\n",
       "      <td>0.0</td>\n",
       "      <td>0.0</td>\n",
       "      <td>0.0</td>\n",
       "      <td>0.0</td>\n",
       "      <td>1</td>\n",
       "      <td>1</td>\n",
       "      <td>False</td>\n",
       "      <td>False</td>\n",
       "      <td>False</td>\n",
       "      <td>0</td>\n",
       "      <td>2020-10-03 16:41:01</td>\n",
       "    </tr>\n",
       "    <tr>\n",
       "      <th>3</th>\n",
       "      <td>2ea7a4b26c76630d5d0ce328d512c201874df711</td>\n",
       "      <td>aa00d524db5299ae417bfed79b1d24c85b7e2101</td>\n",
       "      <td>2024-04-03 16:05:13.525793+00:00</td>\n",
       "      <td>ecobee3</td>\n",
       "      <td>NaN</td>\n",
       "      <td>NaN</td>\n",
       "      <td>NaN</td>\n",
       "      <td>townhouse</td>\n",
       "      <td>0.0</td>\n",
       "      <td>3.0</td>\n",
       "      <td>40.0</td>\n",
       "      <td>4.0</td>\n",
       "      <td>0</td>\n",
       "      <td>2</td>\n",
       "      <td>False</td>\n",
       "      <td>False</td>\n",
       "      <td>False</td>\n",
       "      <td>0</td>\n",
       "      <td>2017-11-19 17:54:00</td>\n",
       "    </tr>\n",
       "    <tr>\n",
       "      <th>4</th>\n",
       "      <td>ad79a4bc10128ec95c77af9805e37af57a0ba18c</td>\n",
       "      <td>3ce459260a96bcc52e2a70325fc919e4f3c19bbc</td>\n",
       "      <td>2024-04-03 16:05:13.525793+00:00</td>\n",
       "      <td>ecobee3Lite</td>\n",
       "      <td>NaN</td>\n",
       "      <td>NaN</td>\n",
       "      <td>NaN</td>\n",
       "      <td>NaN</td>\n",
       "      <td>0.0</td>\n",
       "      <td>0.0</td>\n",
       "      <td>0.0</td>\n",
       "      <td>0.0</td>\n",
       "      <td>1</td>\n",
       "      <td>1</td>\n",
       "      <td>False</td>\n",
       "      <td>False</td>\n",
       "      <td>False</td>\n",
       "      <td>2</td>\n",
       "      <td>2019-04-12 19:57:58</td>\n",
       "    </tr>\n",
       "  </tbody>\n",
       "</table>\n",
       "</div>"
      ],
      "text/plain": [
       "                                 identifier  \\\n",
       "0  63299b4395a21685163f44719570c156df7ae96d   \n",
       "1  a86bd752180f9e9d1d4e67ff7f5cd977aad6fdc8   \n",
       "2  2274ba2595335e43c37c1cbb0ef4ab18e96e0a89   \n",
       "3  2ea7a4b26c76630d5d0ce328d512c201874df711   \n",
       "4  ad79a4bc10128ec95c77af9805e37af57a0ba18c   \n",
       "\n",
       "                                 account_id                           runtime  \\\n",
       "0  c78cccf5eef35744d80d457847825f622daa9c62  2024-04-03 16:05:13.525793+00:00   \n",
       "1  1f33965cae9d654559b91455ae1cd6f359b845be  2024-04-03 16:05:13.525793+00:00   \n",
       "2  2297ca9740867edc63b7e1f0da592b8b537418b7  2024-04-03 16:05:13.525793+00:00   \n",
       "3  aa00d524db5299ae417bfed79b1d24c85b7e2101  2024-04-03 16:05:13.525793+00:00   \n",
       "4  3ce459260a96bcc52e2a70325fc919e4f3c19bbc  2024-04-03 16:05:13.525793+00:00   \n",
       "\n",
       "         model country province_state     city building_type  floor_area_sqft  \\\n",
       "0      ecobee4      CA             AB  Calgary           NaN              NaN   \n",
       "1  ecobee3Lite     NaN            NaN      NaN           NaN              0.0   \n",
       "2      ecobee3      US             PA      NaN           NaN              0.0   \n",
       "3      ecobee3     NaN            NaN      NaN     townhouse              0.0   \n",
       "4  ecobee3Lite     NaN            NaN      NaN           NaN              0.0   \n",
       "\n",
       "   number_floors  building_age_yrs  number_occupants  number_cool_stages  \\\n",
       "0            NaN               NaN               NaN                   1   \n",
       "1            0.0               0.0               0.0                   1   \n",
       "2            0.0               0.0               0.0                   1   \n",
       "3            3.0              40.0               4.0                   0   \n",
       "4            0.0               0.0               0.0                   1   \n",
       "\n",
       "   number_heat_stages  allow_comp_with_aux  has_electric  has_heatpump  \\\n",
       "0                   2                 True         False         False   \n",
       "1                   1                 True         False         False   \n",
       "2                   1                False         False         False   \n",
       "3                   2                False         False         False   \n",
       "4                   1                False         False         False   \n",
       "\n",
       "   number_remote_sensors      first_connected  \n",
       "0                      2  2018-02-13 00:21:58  \n",
       "1                      0  2022-12-21 19:01:51  \n",
       "2                      0  2020-10-03 16:41:01  \n",
       "3                      0  2017-11-19 17:54:00  \n",
       "4                      2  2019-04-12 19:57:58  "
      ]
     },
     "execution_count": 20,
     "metadata": {},
     "output_type": "execute_result"
    }
   ],
   "source": [
    "print(\"Loading ecobee DYD metadata\")\n",
    "df = pd.read_csv('ecb_dyd_metadata.csv') # ecbe_metadata.csv?\n",
    "\n",
    "# display the first few rows of the data set\n",
    "df.head()"
   ]
  },
  {
   "cell_type": "code",
   "execution_count": 21,
   "metadata": {},
   "outputs": [
    {
     "name": "stdout",
     "output_type": "stream",
     "text": [
      "\n",
      "Dataset Info:\n",
      "<class 'pandas.core.frame.DataFrame'>\n",
      "RangeIndex: 239931 entries, 0 to 239930\n",
      "Data columns (total 19 columns):\n",
      " #   Column                 Non-Null Count   Dtype  \n",
      "---  ------                 --------------   -----  \n",
      " 0   identifier             239931 non-null  object \n",
      " 1   account_id             239931 non-null  object \n",
      " 2   runtime                239931 non-null  object \n",
      " 3   model                  211711 non-null  object \n",
      " 4   country                231109 non-null  object \n",
      " 5   province_state         230971 non-null  object \n",
      " 6   city                   230776 non-null  object \n",
      " 7   building_type          207903 non-null  object \n",
      " 8   floor_area_sqft        239930 non-null  float64\n",
      " 9   number_floors          239930 non-null  float64\n",
      " 10  building_age_yrs       239930 non-null  float64\n",
      " 11  number_occupants       239930 non-null  float64\n",
      " 12  number_cool_stages     239931 non-null  int64  \n",
      " 13  number_heat_stages     239931 non-null  int64  \n",
      " 14  allow_comp_with_aux    239931 non-null  bool   \n",
      " 15  has_electric           239931 non-null  bool   \n",
      " 16  has_heatpump           239931 non-null  bool   \n",
      " 17  number_remote_sensors  239931 non-null  int64  \n",
      " 18  first_connected        238308 non-null  object \n",
      "dtypes: bool(3), float64(4), int64(3), object(9)\n",
      "memory usage: 30.0+ MB\n"
     ]
    }
   ],
   "source": [
    "# display basic information about the dataset\n",
    "print(\"\\nDataset Info:\")\n",
    "df.info() #pandas.DataFrame.info"
   ]
  },
  {
   "cell_type": "markdown",
   "metadata": {},
   "source": [
    "### Cleaning rows with NaN values."
   ]
  },
  {
   "cell_type": "code",
   "execution_count": 22,
   "metadata": {},
   "outputs": [
    {
     "name": "stdout",
     "output_type": "stream",
     "text": [
      "Missing values before cleaning:\n",
      "identifier                   0\n",
      "account_id                   0\n",
      "runtime                      0\n",
      "model                    28220\n",
      "country                   8822\n",
      "province_state            8960\n",
      "city                      9155\n",
      "building_type            32028\n",
      "floor_area_sqft              1\n",
      "number_floors                1\n",
      "building_age_yrs             1\n",
      "number_occupants             1\n",
      "number_cool_stages           0\n",
      "number_heat_stages           0\n",
      "allow_comp_with_aux          0\n",
      "has_electric                 0\n",
      "has_heatpump                 0\n",
      "number_remote_sensors        0\n",
      "first_connected           1623\n",
      "dtype: int64\n"
     ]
    }
   ],
   "source": [
    "# Check for missing values\n",
    "print(\"Missing values before cleaning:\")\n",
    "print(df.isnull().sum())"
   ]
  },
  {
   "cell_type": "code",
   "execution_count": 23,
   "metadata": {},
   "outputs": [
    {
     "name": "stdout",
     "output_type": "stream",
     "text": [
      "Total rows after cleaning: 173855\n",
      "Rows removed: 66076\n"
     ]
    }
   ],
   "source": [
    "# Count total rows before cleaning\n",
    "rows_before = len(df)\n",
    "\n",
    "# Remove rows with NaN values\n",
    "df = df.dropna()\n",
    "\n",
    "# Count total rows after cleaning\n",
    "rows_after = len(df)\n",
    "print(f\"Total rows after cleaning: {rows_after}\")\n",
    "print(f\"Rows removed: {rows_before - rows_after}\")"
   ]
  },
  {
   "cell_type": "markdown",
   "metadata": {},
   "source": [
    "### Filtering out Non-US data"
   ]
  },
  {
   "cell_type": "code",
   "execution_count": 24,
   "metadata": {},
   "outputs": [
    {
     "name": "stdout",
     "output_type": "stream",
     "text": [
      "Entries by country before filtering:\n"
     ]
    },
    {
     "data": {
      "text/plain": [
       "country\n",
       "US    155377\n",
       "CA     17823\n",
       "AE       167\n",
       "MX       107\n",
       "AU        66\n",
       "GB        33\n",
       "AR        24\n",
       "CL        23\n",
       "KY        22\n",
       "RU        19\n",
       "UA        16\n",
       "PA        14\n",
       "BH        14\n",
       "KW        12\n",
       "DO        10\n",
       "PL         9\n",
       "LV         9\n",
       "EC         7\n",
       "IT         7\n",
       "KR         7\n",
       "VE         6\n",
       "SA         6\n",
       "BS         6\n",
       "LT         5\n",
       "RO         5\n",
       "BR         5\n",
       "UY         5\n",
       "NL         5\n",
       "CN         5\n",
       "HK         4\n",
       "CR         4\n",
       "CO         4\n",
       "CZ         4\n",
       "QA         4\n",
       "IE         2\n",
       "HU         2\n",
       "GE         2\n",
       "HN         2\n",
       "IR         2\n",
       "ES         1\n",
       "LB         1\n",
       "JO         1\n",
       "IM         1\n",
       "NI         1\n",
       "SI         1\n",
       "BG         1\n",
       "GT         1\n",
       "BY         1\n",
       "GR         1\n",
       "SV         1\n",
       "Name: count, dtype: int64"
      ]
     },
     "execution_count": 24,
     "metadata": {},
     "output_type": "execute_result"
    }
   ],
   "source": [
    "# Count entries by country before filtering\n",
    "print(\"Entries by country before filtering:\")\n",
    "df['country'].value_counts()"
   ]
  },
  {
   "cell_type": "code",
   "execution_count": 25,
   "metadata": {},
   "outputs": [
    {
     "name": "stdout",
     "output_type": "stream",
     "text": [
      "\n",
      "Total entries after filtering for US: 155377\n",
      "<class 'pandas.core.frame.DataFrame'>\n",
      "Index: 155377 entries, 1179 to 239930\n",
      "Data columns (total 19 columns):\n",
      " #   Column                 Non-Null Count   Dtype  \n",
      "---  ------                 --------------   -----  \n",
      " 0   identifier             155377 non-null  object \n",
      " 1   account_id             155377 non-null  object \n",
      " 2   runtime                155377 non-null  object \n",
      " 3   model                  155377 non-null  object \n",
      " 4   country                155377 non-null  object \n",
      " 5   province_state         155377 non-null  object \n",
      " 6   city                   155377 non-null  object \n",
      " 7   building_type          155377 non-null  object \n",
      " 8   floor_area_sqft        155377 non-null  float64\n",
      " 9   number_floors          155377 non-null  float64\n",
      " 10  building_age_yrs       155377 non-null  float64\n",
      " 11  number_occupants       155377 non-null  float64\n",
      " 12  number_cool_stages     155377 non-null  int64  \n",
      " 13  number_heat_stages     155377 non-null  int64  \n",
      " 14  allow_comp_with_aux    155377 non-null  bool   \n",
      " 15  has_electric           155377 non-null  bool   \n",
      " 16  has_heatpump           155377 non-null  bool   \n",
      " 17  number_remote_sensors  155377 non-null  int64  \n",
      " 18  first_connected        155377 non-null  object \n",
      "dtypes: bool(3), float64(4), int64(3), object(9)\n",
      "memory usage: 20.6+ MB\n"
     ]
    }
   ],
   "source": [
    "# Filter for US data only\n",
    "df_us = df[df['country'] == 'US']\n",
    "\n",
    "# Display the number of entries after filtering\n",
    "print(f\"\\nTotal entries after filtering for US: {len(df_us)}\")\n",
    "df_us.info()"
   ]
  },
  {
   "cell_type": "markdown",
   "metadata": {},
   "source": [
    "### filtering out the rows that have invalid inputs."
   ]
  },
  {
   "cell_type": "code",
   "execution_count": 26,
   "metadata": {},
   "outputs": [],
   "source": [
    "# import typing\n",
    "from typing import Union\n",
    "\n",
    "# typing: a.k.a. type hinting. A feature introduced in Python 3.5 that allows you to specify the expected data types of variables, \n",
    "#                              function parameters, and return values.\n",
    "#                              Benefits: Readability and Maintainability\n",
    "# Union in typing: when a variable, function argument, or return value can be of multiple types."
   ]
  },
  {
   "cell_type": "code",
   "execution_count": 27,
   "metadata": {},
   "outputs": [],
   "source": [
    "# 4. Custom Filtering Function\n",
    "def filter_by_threshold(\n",
    "    dataframe: pd.DataFrame, \n",
    "    column: str, \n",
    "    threshold: Union[int, float]\n",
    ") -> pd.DataFrame:\n",
    "    \"\"\" \n",
    "    Filter the dataframe by removing rows where the value in the specified column\n",
    "    is below the given threshold.\n",
    "\n",
    "    Arguments:\n",
    "    dataframe (pd.DataFrame): The input dataframe\n",
    "    column (str): The name of the column to filter on\n",
    "    threshold (Union[int, float]): The minimum threshold value\n",
    "    \n",
    "    Returns:\n",
    "    pd.DataFrame: The filtered dataframe\n",
    "    \"\"\"\n",
    "    original_count = len(dataframe)\n",
    "    filtered_df = dataframe[dataframe[column] >= threshold]\n",
    "    removed_count = original_count - len(filtered_df)\n",
    "    \n",
    "    print(f\"Rows removed: {removed_count}\")\n",
    "    print(f\"Rows remaining: {len(filtered_df)}\")\n",
    "    \n",
    "    return filtered_df"
   ]
  },
  {
   "cell_type": "code",
   "execution_count": 28,
   "metadata": {},
   "outputs": [],
   "source": [
    "# Start with the US data\n",
    "df_filtered = df_us.copy()"
   ]
  },
  {
   "cell_type": "code",
   "execution_count": 29,
   "metadata": {},
   "outputs": [
    {
     "name": "stdout",
     "output_type": "stream",
     "text": [
      "\n",
      "Filtering floor_area_sqft < 50:\n",
      "Rows removed: 2607\n",
      "Rows remaining: 152770\n",
      "\n",
      "Filtering number_floors == 0:\n",
      "Rows removed: 135\n",
      "Rows remaining: 152635\n",
      "\n",
      "Filtering building_age_yrs == 0:\n",
      "Rows removed: 11243\n",
      "Rows remaining: 141392\n"
     ]
    }
   ],
   "source": [
    "# Filter out rows with floor area less than 300 sqft\n",
    "print(\"\\nFiltering floor_area_sqft < 50:\")\n",
    "df_filtered = filter_by_threshold(df_filtered, 'floor_area_sqft', 50)\n",
    "\n",
    "# Filter out rows with zero floors\n",
    "print(\"\\nFiltering number_floors == 0:\")\n",
    "df_filtered = filter_by_threshold(df_filtered, 'number_floors', 1)\n",
    "\n",
    "# Filter out rows with zero building age\n",
    "print(\"\\nFiltering building_age_yrs == 0:\")\n",
    "df_filtered = filter_by_threshold(df_filtered, 'building_age_yrs', 1)"
   ]
  },
  {
   "cell_type": "code",
   "execution_count": 30,
   "metadata": {},
   "outputs": [
    {
     "name": "stdout",
     "output_type": "stream",
     "text": [
      "\n",
      "Filtering number_occupants == 0:\n",
      "Rows removed: 70124\n",
      "Rows remaining: 71268\n"
     ]
    }
   ],
   "source": [
    "# Exercise - Filter out rows with zero occupants in buildings\n",
    "print(\"\\nFiltering number_occupants == 0:\")\n",
    "df_filtered = filter_by_threshold(df_filtered, 'number_occupants', 1)"
   ]
  },
  {
   "cell_type": "code",
   "execution_count": 31,
   "metadata": {},
   "outputs": [
    {
     "name": "stdout",
     "output_type": "stream",
     "text": [
      "\n",
      "Total rows removed by all filters: 84109\n",
      "Final number of rows: 71268\n"
     ]
    }
   ],
   "source": [
    "original_count = len(df_us)\n",
    "total_removed = original_count - len(df_filtered)\n",
    "print(f\"\\nTotal rows removed by all filters: {total_removed}\")\n",
    "print(f\"Final number of rows: {len(df_filtered)}\")"
   ]
  },
  {
   "cell_type": "markdown",
   "metadata": {},
   "source": [
    "### Processing the 'building_type' column"
   ]
  },
  {
   "cell_type": "code",
   "execution_count": 32,
   "metadata": {},
   "outputs": [
    {
     "name": "stdout",
     "output_type": "stream",
     "text": [
      "\n",
      "Unique values in 'building_type' column before processing:\n",
      "building_type\n",
      "detached         35047\n",
      "Detached         14463\n",
      "other             4510\n",
      "Other             3486\n",
      "townhouse         2958\n",
      "condominium       1643\n",
      "Townhouse         1562\n",
      "rowHouse          1469\n",
      "Apartment         1080\n",
      "apartment         1005\n",
      "Condominium        874\n",
      "Row House          825\n",
      "multiPlex          570\n",
      "semiDetached       560\n",
      "0                  371\n",
      "Multi-plex         291\n",
      "Semi-Detached      271\n",
      "loft               182\n",
      "Loft                85\n",
      "I don't know         9\n",
      "Condo                4\n",
      "Multi Plex           3\n",
      "Name: count, dtype: int64\n"
     ]
    }
   ],
   "source": [
    "# Examine 'building_type' column before processing\n",
    "print(\"\\nUnique values in 'building_type' column before processing:\")\n",
    "print(df_filtered['building_type'].value_counts())"
   ]
  },
  {
   "cell_type": "code",
   "execution_count": 33,
   "metadata": {},
   "outputs": [
    {
     "name": "stdout",
     "output_type": "stream",
     "text": [
      "\n",
      "Processing 'building_type' column...\n",
      "\n",
      "Unique values in 'building_type' column after processing:\n",
      "building_type\n",
      "detached        49510\n",
      "other            7996\n",
      "townhouse        4520\n",
      "condo            2521\n",
      "rowhouse         2294\n",
      "apartment        2085\n",
      "multiplex         864\n",
      "semidetached      831\n",
      "loft              267\n",
      "Name: count, dtype: int64\n"
     ]
    }
   ],
   "source": [
    "# Process 'building_type' column\n",
    "print(\"\\nProcessing 'building_type' column...\")\n",
    "\n",
    "# Remove rows with '0' or 'I don't know' in building_type\n",
    "df_filtered = df_filtered[~df_filtered['building_type'].isin(['0', \"I don't know\"])] # ~: NOT\n",
    "\n",
    "# Standardize 'Condo' and 'condominium' to 'condo'\n",
    "df_filtered['building_type'] = df_filtered['building_type'].replace({'Condo': 'condo', \n",
    "                                                                     'condominium': 'condo',\n",
    "                                                                     'Condominium': 'condo',\n",
    "                                                                     'Detached': 'detached',\n",
    "                                                                     'Other': 'other',\n",
    "                                                                     'Apartment': 'apartment',\n",
    "                                                                     'Townhouse': 'townhouse',\n",
    "                                                                     'rowHouse': 'rowhouse',\n",
    "                                                                     'Rose House': 'rowhouse',\n",
    "                                                                     'multiPlex': 'multiplex',\n",
    "                                                                     'Multi-plex': 'multiplex',\n",
    "                                                                     'Multi Plex': 'multiplex',\n",
    "                                                                     'Loft': 'loft',\n",
    "                                                                     'Row House': 'rowhouse',\n",
    "                                                                     'semiDetached': 'semidetached',\n",
    "                                                                     'Semi-Detached': 'semidetached',\n",
    "                                                                     })\n",
    "\n",
    "# Examine 'building_type' column after processing\n",
    "print(\"\\nUnique values in 'building_type' column after processing:\")\n",
    "print(df_filtered['building_type'].value_counts())"
   ]
  },
  {
   "cell_type": "code",
   "execution_count": 34,
   "metadata": {},
   "outputs": [],
   "source": [
    "# Exercise. Continue organizing the buliding_type column\n",
    "# Goal: you do not have any unique values that are similar to each other (e.g., Townhouse, townhouse, town house, etc.) in the building_type column.\n"
   ]
  },
  {
   "cell_type": "markdown",
   "metadata": {},
   "source": [
    "### Saving the preprocessed ecobee DYD metadata"
   ]
  },
  {
   "cell_type": "code",
   "execution_count": 35,
   "metadata": {},
   "outputs": [
    {
     "name": "stdout",
     "output_type": "stream",
     "text": [
      "\n",
      "Processed Dataset Info:\n",
      "<class 'pandas.core.frame.DataFrame'>\n",
      "Index: 70888 entries, 32370 to 239927\n",
      "Data columns (total 19 columns):\n",
      " #   Column                 Non-Null Count  Dtype  \n",
      "---  ------                 --------------  -----  \n",
      " 0   identifier             70888 non-null  object \n",
      " 1   account_id             70888 non-null  object \n",
      " 2   runtime                70888 non-null  object \n",
      " 3   model                  70888 non-null  object \n",
      " 4   country                70888 non-null  object \n",
      " 5   province_state         70888 non-null  object \n",
      " 6   city                   70888 non-null  object \n",
      " 7   building_type          70888 non-null  object \n",
      " 8   floor_area_sqft        70888 non-null  float64\n",
      " 9   number_floors          70888 non-null  float64\n",
      " 10  building_age_yrs       70888 non-null  float64\n",
      " 11  number_occupants       70888 non-null  float64\n",
      " 12  number_cool_stages     70888 non-null  int64  \n",
      " 13  number_heat_stages     70888 non-null  int64  \n",
      " 14  allow_comp_with_aux    70888 non-null  bool   \n",
      " 15  has_electric           70888 non-null  bool   \n",
      " 16  has_heatpump           70888 non-null  bool   \n",
      " 17  number_remote_sensors  70888 non-null  int64  \n",
      " 18  first_connected        70888 non-null  object \n",
      "dtypes: bool(3), float64(4), int64(3), object(9)\n",
      "memory usage: 9.4+ MB\n"
     ]
    }
   ],
   "source": [
    "# display basic information about the dataset\n",
    "print(\"\\nProcessed Dataset Info:\")\n",
    "df_filtered.info()"
   ]
  },
  {
   "cell_type": "code",
   "execution_count": 36,
   "metadata": {},
   "outputs": [
    {
     "name": "stdout",
     "output_type": "stream",
     "text": [
      "\n",
      "Saving Processed Data\n",
      "Processed US ECB metadata saved to 'processed_us_ecb_metadata.csv'\n",
      "\n",
      "Data preprocessing workflow complete!\n"
     ]
    }
   ],
   "source": [
    "print(\"\\nSaving Processed Data\")\n",
    "df_filtered.to_csv('processed_us_ecb_metadata.csv', index=False)\n",
    "print(\"Processed US ECB metadata saved to 'processed_us_ecb_metadata.csv'\")\n",
    "\n",
    "print(\"\\nData preprocessing workflow complete!\")"
   ]
  }
 ],
 "metadata": {
  "kernelspec": {
   "display_name": "Python 3",
   "language": "python",
   "name": "python3"
  },
  "language_info": {
   "codemirror_mode": {
    "name": "ipython",
    "version": 3
   },
   "file_extension": ".py",
   "mimetype": "text/x-python",
   "name": "python",
   "nbconvert_exporter": "python",
   "pygments_lexer": "ipython3",
   "version": "3.12.2"
  }
 },
 "nbformat": 4,
 "nbformat_minor": 2
}
