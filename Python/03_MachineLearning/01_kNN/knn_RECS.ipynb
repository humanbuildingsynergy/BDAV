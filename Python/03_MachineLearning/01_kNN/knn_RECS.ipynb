{
 "cells": [
  {
   "cell_type": "code",
   "execution_count": 4,
   "metadata": {},
   "outputs": [],
   "source": [
    "# Import necessary libraries\n",
    "import pandas as pd\n",
    "import numpy as np\n",
    "\n",
    "# scikit-learn: A machine learning library\n",
    "from sklearn.model_selection import train_test_split\n",
    "# train_test_split is used to split our data into training and testing sets, which is crucial for evaluating our model's performance on unseen data.\n",
    "\n",
    "from sklearn.preprocessing import StandardScaler\n",
    "# StandardScaler is used to normalize our feature data. This is important because KNN is sensitive to the scale of the features.\n",
    "\n",
    "from sklearn.neighbors import KNeighborsClassifier\n",
    "# This is the implementation of the K-Nearest Neighbors algorithm we'll use for classification.\n",
    "\n",
    "from sklearn.metrics import classification_report, confusion_matrix\n",
    "# These functions help us evaluate the performance of our classifier. They provide metrics like precision, recall, and F1-score."
   ]
  },
  {
   "cell_type": "code",
   "execution_count": 5,
   "metadata": {},
   "outputs": [],
   "source": [
    "# Load the data\n",
    "data = pd.read_csv('sample_recs_data_knn.csv')"
   ]
  },
  {
   "cell_type": "code",
   "execution_count": 6,
   "metadata": {},
   "outputs": [
    {
     "name": "stdout",
     "output_type": "stream",
     "text": [
      "<class 'pandas.core.frame.DataFrame'>\n",
      "RangeIndex: 100 entries, 0 to 99\n",
      "Data columns (total 7 columns):\n",
      " #   Column       Non-Null Count  Dtype  \n",
      "---  ------       --------------  -----  \n",
      " 0   Building_id  100 non-null    int64  \n",
      " 1   state        100 non-null    object \n",
      " 2   HDD65        99 non-null     float64\n",
      " 3   TOTSQFT_EN   99 non-null     float64\n",
      " 4   WINDOWS      99 non-null     float64\n",
      " 5   BTUELCOL     99 non-null     float64\n",
      " 6   TYPETHERM    99 non-null     float64\n",
      "dtypes: float64(5), int64(1), object(1)\n",
      "memory usage: 5.6+ KB\n"
     ]
    }
   ],
   "source": [
    "data.info()"
   ]
  },
  {
   "cell_type": "markdown",
   "metadata": {},
   "source": [
    "## Preprocessing data"
   ]
  },
  {
   "cell_type": "code",
   "execution_count": 7,
   "metadata": {},
   "outputs": [
    {
     "name": "stdout",
     "output_type": "stream",
     "text": [
      "Number of NaN values in each column before cleaning:\n",
      "Building_id    0\n",
      "state          0\n",
      "HDD65          1\n",
      "TOTSQFT_EN     1\n",
      "WINDOWS        1\n",
      "BTUELCOL       1\n",
      "TYPETHERM      1\n",
      "dtype: int64\n",
      "\n",
      "Number of rows before cleaning: 100\n",
      "Number of rows after cleaning: 99\n",
      "\n",
      "Number of NaN values in each column after cleaning:\n",
      "Building_id    0\n",
      "state          0\n",
      "HDD65          0\n",
      "TOTSQFT_EN     0\n",
      "WINDOWS        0\n",
      "BTUELCOL       0\n",
      "TYPETHERM      0\n",
      "dtype: int64\n"
     ]
    }
   ],
   "source": [
    "# Check for NaN values\n",
    "print(\"Number of NaN values in each column before cleaning:\")\n",
    "print(data.isna().sum())\n",
    "\n",
    "# Remove rows with NaN values\n",
    "data_cleaned = data.dropna()\n",
    "\n",
    "# Check the number of rows before and after cleaning\n",
    "print(f\"\\nNumber of rows before cleaning: {len(data)}\")\n",
    "print(f\"Number of rows after cleaning: {len(data_cleaned)}\")\n",
    "\n",
    "# Check for NaN values again\n",
    "print(\"\\nNumber of NaN values in each column after cleaning:\")\n",
    "print(data_cleaned.isna().sum())"
   ]
  },
  {
   "cell_type": "markdown",
   "metadata": {},
   "source": [
    "## kNN Binary Classification"
   ]
  },
  {
   "cell_type": "code",
   "execution_count": 8,
   "metadata": {},
   "outputs": [],
   "source": [
    "# Prepare the features (X) and target variable (y)\n",
    "X = data_cleaned[['HDD65', 'TOTSQFT_EN', 'WINDOWS', 'BTUELCOL']]\n",
    "y = (data_cleaned['TYPETHERM'] == 3).astype(int)  # 1 (True) if smart thermostat, 0 otherwise"
   ]
  },
  {
   "cell_type": "code",
   "execution_count": 9,
   "metadata": {},
   "outputs": [],
   "source": [
    "# Split the data into training and testing sets\n",
    "# We use 80% of the data for training and 40% for testing\n",
    "X_train, X_test, y_train, y_test = train_test_split(X, y, test_size=0.4, random_state=2)\n",
    "# random_state ensures reproducibility of the split"
   ]
  },
  {
   "cell_type": "code",
   "execution_count": 10,
   "metadata": {},
   "outputs": [],
   "source": [
    "# Scale the features\n",
    "# StandardScaler normalizes features by removing the mean and scaling to unit variance\n",
    "scaler = StandardScaler()\n",
    "X_train_scaled = scaler.fit_transform(X_train) # fit part calculates the scaling parameters (mean and std) from the training data\n",
    "                                               # transform part applies these parameters to scale the training data\n",
    "X_test_scaled = scaler.transform(X_test) # this applies the scaling parameters that were calculated from the training data\n",
    "                                         # this ensures our test data is scaled using the same parameters as our training data\n",
    "# We fit on the training data and transform both training and test data otherwise it would leak information about \n",
    "# the test set into the scaling process."
   ]
  },
  {
   "cell_type": "code",
   "execution_count": 11,
   "metadata": {},
   "outputs": [],
   "source": [
    "# Create and train the KNN model\n",
    "knn = KNeighborsClassifier(n_neighbors=3)  # You can adjust the number of neighbors\n",
    "# n_neighbors=3 means each prediction is based on the 3 closest training samples\n",
    "knn.fit(X_train_scaled, y_train) # training the model\n",
    "\n",
    "# Make predictions on the test set\n",
    "y_pred = knn.predict(X_test_scaled) # making predictions"
   ]
  },
  {
   "cell_type": "code",
   "execution_count": 12,
   "metadata": {},
   "outputs": [
    {
     "name": "stdout",
     "output_type": "stream",
     "text": [
      "Confusion Matrix:\n",
      "[[33  1]\n",
      " [ 6  0]]\n",
      "\n",
      "Classification Report:\n",
      "              precision    recall  f1-score   support\n",
      "\n",
      "           0       0.85      0.97      0.90        34\n",
      "           1       0.00      0.00      0.00         6\n",
      "\n",
      "    accuracy                           0.82        40\n",
      "   macro avg       0.42      0.49      0.45        40\n",
      "weighted avg       0.72      0.82      0.77        40\n",
      "\n"
     ]
    }
   ],
   "source": [
    "# Evaluate the model\n",
    "print(\"Confusion Matrix:\")\n",
    "print(confusion_matrix(y_test, y_pred))\n",
    "# The confusion matrix shows true positives, false positives, true negatives, and false negatives\n",
    "\n",
    "print(\"\\nClassification Report:\")\n",
    "print(classification_report(y_test, y_pred))\n",
    "# This report shows precision, recall, F1-score, and support for each class"
   ]
  },
  {
   "cell_type": "code",
   "execution_count": 13,
   "metadata": {},
   "outputs": [
    {
     "name": "stdout",
     "output_type": "stream",
     "text": [
      "\n",
      "Prediction for new house:\n",
      "Not a smart thermostat\n"
     ]
    },
    {
     "name": "stderr",
     "output_type": "stream",
     "text": [
      "/Library/Frameworks/Python.framework/Versions/3.12/lib/python3.12/site-packages/sklearn/base.py:493: UserWarning: X does not have valid feature names, but StandardScaler was fitted with feature names\n",
      "  warnings.warn(\n"
     ]
    }
   ],
   "source": [
    "# Predict for a new house\n",
    "new_house = np.array([[3000, 2000, 3, 10000]])  # Example values\n",
    "new_house_scaled = scaler.transform(new_house) # We need to scale the new data before making predictions\n",
    "# We use the same scaler to normalize the new data\n",
    "prediction = knn.predict(new_house_scaled)\n",
    "print(\"\\nPrediction for new house:\")\n",
    "print(\"Smart thermostat\" if prediction[0] == 1 else \"Not a smart thermostat\")"
   ]
  },
  {
   "cell_type": "markdown",
   "metadata": {},
   "source": [
    "## Multi-class kNN classification"
   ]
  },
  {
   "cell_type": "code",
   "execution_count": 14,
   "metadata": {},
   "outputs": [
    {
     "name": "stdout",
     "output_type": "stream",
     "text": [
      "\n",
      "Distribution of TYPETHERM values after removing -2:\n",
      "TYPETHERM\n",
      "2.0    42\n",
      "1.0    40\n",
      "3.0    10\n",
      "0.0     6\n",
      "Name: count, dtype: int64\n"
     ]
    }
   ],
   "source": [
    "# Create a copy of the original data\n",
    "data_multiclass = data_cleaned.copy()\n",
    "\n",
    "# Remove rows where TYPETHERM is -2\n",
    "data_multiclass = data_multiclass[data_multiclass['TYPETHERM'] != -2]\n",
    "# 1: Manual thermostat, 2: Programmable thermostat, 3: Smart thermostat, 0: No thermostat\n",
    "\n",
    "# Show distribution of TYPETHERM values\n",
    "print(\"\\nDistribution of TYPETHERM values after removing -2:\")\n",
    "print(data_multiclass['TYPETHERM'].value_counts())"
   ]
  },
  {
   "cell_type": "code",
   "execution_count": 15,
   "metadata": {},
   "outputs": [],
   "source": [
    "# Prepare the features (X) and target variable (y)\n",
    "X_multi = data_multiclass[['HDD65', 'TOTSQFT_EN', 'WINDOWS', 'BTUELCOL']]\n",
    "y_multi = data_multiclass['TYPETHERM']\n",
    "\n",
    "# Split the data into training and testing sets\n",
    "X_train_multi, X_test_multi, y_train_multi, y_test_multi = train_test_split(\n",
    "    X_multi, y_multi, test_size=0.3, random_state=15\n",
    ")"
   ]
  },
  {
   "cell_type": "code",
   "execution_count": 16,
   "metadata": {},
   "outputs": [],
   "source": [
    "# Scale the features\n",
    "scaler_multi = StandardScaler()\n",
    "X_train_multi_scaled = scaler_multi.fit_transform(X_train_multi)\n",
    "X_test_multi_scaled = scaler_multi.transform(X_test_multi)\n",
    "\n",
    "# Create and train the KNN model\n",
    "knn_multi = KNeighborsClassifier(n_neighbors=3)\n",
    "knn_multi.fit(X_train_multi_scaled, y_train_multi)\n",
    "\n",
    "# Make predictions\n",
    "y_pred_multi = knn_multi.predict(X_test_multi_scaled)"
   ]
  },
  {
   "cell_type": "code",
   "execution_count": 17,
   "metadata": {},
   "outputs": [
    {
     "name": "stdout",
     "output_type": "stream",
     "text": [
      "\n",
      "Confusion Matrix:\n",
      "[[0 2 3 0]\n",
      " [1 7 3 0]\n",
      " [1 8 3 0]\n",
      " [0 1 1 0]]\n",
      "\n",
      "Classification Report:\n",
      "              precision    recall  f1-score   support\n",
      "\n",
      "         0.0       0.00      0.00      0.00         5\n",
      "         1.0       0.39      0.64      0.48        11\n",
      "         2.0       0.30      0.25      0.27        12\n",
      "         3.0       0.00      0.00      0.00         2\n",
      "\n",
      "    accuracy                           0.33        30\n",
      "   macro avg       0.17      0.22      0.19        30\n",
      "weighted avg       0.26      0.33      0.29        30\n",
      "\n"
     ]
    },
    {
     "name": "stderr",
     "output_type": "stream",
     "text": [
      "/Library/Frameworks/Python.framework/Versions/3.12/lib/python3.12/site-packages/sklearn/metrics/_classification.py:1509: UndefinedMetricWarning: Precision is ill-defined and being set to 0.0 in labels with no predicted samples. Use `zero_division` parameter to control this behavior.\n",
      "  _warn_prf(average, modifier, f\"{metric.capitalize()} is\", len(result))\n",
      "/Library/Frameworks/Python.framework/Versions/3.12/lib/python3.12/site-packages/sklearn/metrics/_classification.py:1509: UndefinedMetricWarning: Precision is ill-defined and being set to 0.0 in labels with no predicted samples. Use `zero_division` parameter to control this behavior.\n",
      "  _warn_prf(average, modifier, f\"{metric.capitalize()} is\", len(result))\n",
      "/Library/Frameworks/Python.framework/Versions/3.12/lib/python3.12/site-packages/sklearn/metrics/_classification.py:1509: UndefinedMetricWarning: Precision is ill-defined and being set to 0.0 in labels with no predicted samples. Use `zero_division` parameter to control this behavior.\n",
      "  _warn_prf(average, modifier, f\"{metric.capitalize()} is\", len(result))\n"
     ]
    }
   ],
   "source": [
    "# Evaluate the model\n",
    "print(\"\\nConfusion Matrix:\")\n",
    "# Shows the model's prediction accuracy in terms of:\n",
    "# - True Negatives (top-left)\n",
    "# - False Positives (top-right)\n",
    "# - False Negatives (bottom-left)\n",
    "# - True Positives (bottom-right)\n",
    "print(confusion_matrix(y_test_multi, y_pred_multi))\n",
    "print(\"\\nClassification Report:\")\n",
    "# Provides metrics for each class:\n",
    "# - Precision: accuracy of positive predictions\n",
    "# - Recall: ability to find all positive instances\n",
    "# - F1-score: harmonic mean of precision and recall\n",
    "# - Support: number of occurrences of each class\n",
    "print(classification_report(y_test_multi, y_pred_multi))"
   ]
  },
  {
   "cell_type": "code",
   "execution_count": 18,
   "metadata": {},
   "outputs": [
    {
     "name": "stdout",
     "output_type": "stream",
     "text": [
      "\n",
      "Example prediction for a new house:\n",
      "Predicted thermostat type: 2.0\n"
     ]
    },
    {
     "name": "stderr",
     "output_type": "stream",
     "text": [
      "/Library/Frameworks/Python.framework/Versions/3.12/lib/python3.12/site-packages/sklearn/base.py:493: UserWarning: X does not have valid feature names, but StandardScaler was fitted with feature names\n",
      "  warnings.warn(\n"
     ]
    }
   ],
   "source": [
    "# Example prediction for a new house\n",
    "print(\"\\nExample prediction for a new house:\")\n",
    "new_house = np.array([[3000, 2000, 3, 10000]])\n",
    "new_house_scaled = scaler_multi.transform(new_house)\n",
    "prediction = knn_multi.predict(new_house_scaled)\n",
    "print(f\"Predicted thermostat type: {prediction[0]}\")"
   ]
  }
 ],
 "metadata": {
  "kernelspec": {
   "display_name": "Python 3",
   "language": "python",
   "name": "python3"
  },
  "language_info": {
   "codemirror_mode": {
    "name": "ipython",
    "version": 3
   },
   "file_extension": ".py",
   "mimetype": "text/x-python",
   "name": "python",
   "nbconvert_exporter": "python",
   "pygments_lexer": "ipython3",
   "version": "3.12.2"
  }
 },
 "nbformat": 4,
 "nbformat_minor": 2
}
