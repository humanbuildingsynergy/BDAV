{
 "cells": [
  {
   "cell_type": "code",
   "execution_count": 6,
   "metadata": {},
   "outputs": [],
   "source": [
    "# Import necessary libraries\n",
    "\n",
    "# pandas: Library for data manipulation and analysis\n",
    "import pandas as pd\n",
    "# Used for reading CSV files, data manipulation, and creating DataFrames\n",
    "\n",
    "# numpy: Library for numerical operations\n",
    "import numpy as np\n",
    "# Used for array operations and numerical computations\n",
    "\n",
    "# scikit-learn: Machine learning library\n",
    "from sklearn.model_selection import train_test_split\n",
    "# Used to split data into training and testing sets to evaluate model performance\n",
    "\n",
    "from sklearn.linear_model import LogisticRegression\n",
    "# Implementation of logistic regression model for binary classification\n",
    "\n",
    "from sklearn.metrics import classification_report, confusion_matrix\n",
    "# Tools for evaluating model performance:\n",
    "# - classification_report: provides precision, recall, f1-score\n",
    "# - confusion_matrix: shows true positives, false positives, true negatives, false negatives\n"
   ]
  },
  {
   "cell_type": "code",
   "execution_count": 7,
   "metadata": {},
   "outputs": [],
   "source": [
    "# Load and preprocess the data\n",
    "# Read the CSV file into a pandas DataFrame\n",
    "data = pd.read_csv('sample_recs_data_LogisticR.csv')"
   ]
  },
  {
   "cell_type": "code",
   "execution_count": 8,
   "metadata": {},
   "outputs": [
    {
     "name": "stdout",
     "output_type": "stream",
     "text": [
      "<class 'pandas.core.frame.DataFrame'>\n",
      "RangeIndex: 100 entries, 0 to 99\n",
      "Data columns (total 7 columns):\n",
      " #   Column       Non-Null Count  Dtype  \n",
      "---  ------       --------------  -----  \n",
      " 0   Building_id  100 non-null    int64  \n",
      " 1   state        100 non-null    object \n",
      " 2   HDD65        99 non-null     float64\n",
      " 3   TOTSQFT_EN   99 non-null     float64\n",
      " 4   WINDOWS      99 non-null     float64\n",
      " 5   BTUELCOL     99 non-null     float64\n",
      " 6   TYPETHERM    99 non-null     float64\n",
      "dtypes: float64(5), int64(1), object(1)\n",
      "memory usage: 5.6+ KB\n"
     ]
    }
   ],
   "source": [
    "# Data info\n",
    "data.info()"
   ]
  },
  {
   "cell_type": "code",
   "execution_count": 9,
   "metadata": {},
   "outputs": [],
   "source": [
    "# Create binary classification column 'THERMO'\n",
    "# Convert TYPETHERM values to binary classification:\n",
    "# - Values 1, 2, 3 become 1 (Yes)\n",
    "# - Values 0, -2 become 0 (No)\n",
    "data['THERMO'] = data['TYPETHERM'].apply(lambda x: 1 if x in [1, 2, 3] else 0)"
   ]
  },
  {
   "cell_type": "code",
   "execution_count": 10,
   "metadata": {},
   "outputs": [
    {
     "name": "stdout",
     "output_type": "stream",
     "text": [
      "First few rows with new THERMO classification:\n",
      "   TYPETHERM  THERMO\n",
      "0        1.0       1\n",
      "1        1.0       1\n",
      "2        1.0       1\n",
      "3        1.0       1\n",
      "4        2.0       1\n",
      "5        3.0       1\n",
      "6        1.0       1\n",
      "7        1.0       1\n",
      "8        2.0       1\n",
      "9        1.0       1\n",
      "\n",
      "Distribution of THERMO classifications:\n",
      "THERMO\n",
      "1    92\n",
      "0     8\n",
      "Name: count, dtype: int64\n",
      "\n",
      "Percentage distribution:\n",
      "THERMO\n",
      "1    92.0\n",
      "0     8.0\n",
      "Name: proportion, dtype: float64\n"
     ]
    }
   ],
   "source": [
    "# Display sample of the new classification to verify the transformation\n",
    "print(\"First few rows with new THERMO classification:\")\n",
    "print(data[['TYPETHERM', 'THERMO']].head(10))\n",
    "\n",
    "# Analyze the distribution of our target variable\n",
    "print(\"\\nDistribution of THERMO classifications:\")\n",
    "print(data['THERMO'].value_counts())\n",
    "# Show percentages to understand class balance/imbalance\n",
    "print(\"\\nPercentage distribution:\")\n",
    "print(data['THERMO'].value_counts(normalize=True) * 100)"
   ]
  },
  {
   "cell_type": "code",
   "execution_count": 11,
   "metadata": {},
   "outputs": [
    {
     "name": "stdout",
     "output_type": "stream",
     "text": [
      "\n",
      "Rows remaining after removing missing values: 99\n"
     ]
    }
   ],
   "source": [
    "# Data cleaning\n",
    "# Remove rows with missing values to ensure model reliability\n",
    "data_cleaned = data.dropna()\n",
    "print(\"\\nRows remaining after removing missing values:\", len(data_cleaned))"
   ]
  },
  {
   "cell_type": "code",
   "execution_count": 12,
   "metadata": {},
   "outputs": [],
   "source": [
    "# Prepare data for modeling\n",
    "# X: feature matrix - selected variables that might influence thermostat adoption\n",
    "X = data_cleaned[['HDD65', 'TOTSQFT_EN', 'WINDOWS', 'BTUELCOL']]\n",
    "# y: target variable - binary classification of thermostat adoption\n",
    "y = data_cleaned['THERMO']"
   ]
  },
  {
   "cell_type": "code",
   "execution_count": 13,
   "metadata": {},
   "outputs": [],
   "source": [
    "# Split data into training and testing sets\n",
    "# test_size=0.2 means 80% training, 20% testing\n",
    "# random_state ensures reproducibility of results\n",
    "X_train, X_test, y_train, y_test = train_test_split(X, y, test_size=0.2, random_state=4)"
   ]
  },
  {
   "cell_type": "code",
   "execution_count": 14,
   "metadata": {},
   "outputs": [],
   "source": [
    "# Create and train logistic regression model\n",
    "# random_state ensures reproducibility\n",
    "model = LogisticRegression(random_state=4)\n",
    "# Fit the model on training data\n",
    "model.fit(X_train, y_train)\n",
    "\n",
    "# Make predictions on test set\n",
    "y_pred = model.predict(X_test)"
   ]
  },
  {
   "cell_type": "code",
   "execution_count": 15,
   "metadata": {},
   "outputs": [
    {
     "name": "stdout",
     "output_type": "stream",
     "text": [
      "\n",
      "Model Performance:\n",
      "\n",
      "Confusion Matrix:\n",
      "[[ 0  2]\n",
      " [ 0 18]]\n"
     ]
    }
   ],
   "source": [
    "# Evaluate model performance\n",
    "print(\"\\nModel Performance:\")\n",
    "\n",
    "# Create and display confusion matrix\n",
    "print(\"\\nConfusion Matrix:\")\n",
    "conf_matrix = confusion_matrix(y_test, y_pred)\n",
    "print(conf_matrix)"
   ]
  },
  {
   "cell_type": "code",
   "execution_count": 16,
   "metadata": {},
   "outputs": [
    {
     "name": "stdout",
     "output_type": "stream",
     "text": [
      "\n",
      "Classification Report:\n",
      "              precision    recall  f1-score   support\n",
      "\n",
      "           0       0.00      0.00      0.00         2\n",
      "           1       0.90      1.00      0.95        18\n",
      "\n",
      "    accuracy                           0.90        20\n",
      "   macro avg       0.45      0.50      0.47        20\n",
      "weighted avg       0.81      0.90      0.85        20\n",
      "\n"
     ]
    },
    {
     "name": "stderr",
     "output_type": "stream",
     "text": [
      "/Library/Frameworks/Python.framework/Versions/3.12/lib/python3.12/site-packages/sklearn/metrics/_classification.py:1509: UndefinedMetricWarning: Precision is ill-defined and being set to 0.0 in labels with no predicted samples. Use `zero_division` parameter to control this behavior.\n",
      "  _warn_prf(average, modifier, f\"{metric.capitalize()} is\", len(result))\n",
      "/Library/Frameworks/Python.framework/Versions/3.12/lib/python3.12/site-packages/sklearn/metrics/_classification.py:1509: UndefinedMetricWarning: Precision is ill-defined and being set to 0.0 in labels with no predicted samples. Use `zero_division` parameter to control this behavior.\n",
      "  _warn_prf(average, modifier, f\"{metric.capitalize()} is\", len(result))\n",
      "/Library/Frameworks/Python.framework/Versions/3.12/lib/python3.12/site-packages/sklearn/metrics/_classification.py:1509: UndefinedMetricWarning: Precision is ill-defined and being set to 0.0 in labels with no predicted samples. Use `zero_division` parameter to control this behavior.\n",
      "  _warn_prf(average, modifier, f\"{metric.capitalize()} is\", len(result))\n"
     ]
    }
   ],
   "source": [
    "# Display detailed classification metrics\n",
    "print(\"\\nClassification Report:\")\n",
    "# Provides metrics for each class:\n",
    "# - Precision: accuracy of positive predictions\n",
    "# - Recall: ability to find all positive instances\n",
    "# - F1-score: harmonic mean of precision and recall\n",
    "# - Support: number of occurrences of each class\n",
    "print(classification_report(y_test, y_pred))"
   ]
  },
  {
   "cell_type": "code",
   "execution_count": 17,
   "metadata": {},
   "outputs": [],
   "source": [
    "# Get the coefficient and feature names\n",
    "coefficients = model.coef_[0]\n",
    "intercept = model.intercept_[0]\n",
    "features = X.columns"
   ]
  },
  {
   "cell_type": "code",
   "execution_count": 21,
   "metadata": {},
   "outputs": [
    {
     "name": "stdout",
     "output_type": "stream",
     "text": [
      "Mathematical form:\n",
      "log(p/(1-p)) = 0.8064 + 0.0001*HDD65 + 0.0010*TOTSQFT_EN - 0.2596*WINDOWS + 0.0004*BTUELCOL"
     ]
    }
   ],
   "source": [
    "# Print the mathematical form of the equation\n",
    "print(\"Mathematical form:\")\n",
    "print(f\"log(p/(1-p)) = {intercept:.4f}\", end='') # end='' prevents newline\n",
    "for coef, feature in zip(coefficients, features): # zip() pairs coefficients with feature names\n",
    "    if coef >= 0: # if coefficients are positive\n",
    "        print(f\" + {coef:.4f}*{feature}\", end='')\n",
    "    else: # if coefficients are negative\n",
    "        print(f\" - {abs(coef):.4f}*{feature}\", end='')"
   ]
  }
 ],
 "metadata": {
  "kernelspec": {
   "display_name": "Python 3",
   "language": "python",
   "name": "python3"
  },
  "language_info": {
   "codemirror_mode": {
    "name": "ipython",
    "version": 3
   },
   "file_extension": ".py",
   "mimetype": "text/x-python",
   "name": "python",
   "nbconvert_exporter": "python",
   "pygments_lexer": "ipython3",
   "version": "3.12.2"
  }
 },
 "nbformat": 4,
 "nbformat_minor": 2
}
